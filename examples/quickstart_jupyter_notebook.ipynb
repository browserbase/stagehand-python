{
 "cells": [
  {
   "cell_type": "markdown",
   "metadata": {},
   "source": [
    "# Stagehand Quickstart Jupyter Notebook\n",
    "\n",
    "This notebook demonstrates how to use Stagehand with local browser automation and custom LLM endpoints.\n",
    "\n",
    "## Prerequisites\n",
    "\n",
    "Make sure you have:\n",
    "- Python 3.8+ installed\n",
    "- An OpenAI API key (or other LLM provider API key)\n",
    "- Chrome/Chromium browser installed"
   ]
  },
  {
   "cell_type": "code",
   "execution_count": null,
   "metadata": {},
   "outputs": [],
   "source": [
    "# Install Stagehand if not already installed\n",
    "%pip install stagehand"
   ]
  },
  {
   "cell_type": "code",
   "execution_count": null,
   "metadata": {},
   "outputs": [],
   "source": [
    "import os\n",
    "from pprint import pprint\n",
    "from typing import List"
   ]
  },
  {
   "cell_type": "code",
   "execution_count": null,
   "metadata": {},
   "outputs": [],
   "source": [
    "# Load environment variables from .env file\n",
    "import dotenv\n",
    "dotenv.load_dotenv()"
   ]
  },
  {
   "cell_type": "markdown",
   "metadata": {},
   "source": [
    "## Configure Stagehand\n",
    "\n",
    "Configure Stagehand to use local browser automation with a custom LLM endpoint. This example uses OpenAI, but you can configure it for other providers like Anthropic, Together AI, or Groq."
   ]
  },
  {
   "cell_type": "code",
   "execution_count": null,
   "metadata": {},
   "outputs": [],
   "source": [
    "from stagehand import Stagehand, StagehandConfig\n",
    "\n",
    "# Configure Stagehand for local browser automation with Alibaba Bailian (DashScope)\n",
    "config = StagehandConfig(\n",
    "    model_name=\"qwen-turbo\",  # Use Alibaba Bailian model\n",
    "    model_client_options={\n",
    "        \"api_base\": os.getenv(\"ALIBABA_ENDPOINT\", \"https://dashscope.aliyuncs.com/compatible-mode/v1\"),\n",
    "        \"api_key\": os.getenv(\"ALIBABA_API_KEY\"),\n",
    "        \"timeout\": 30\n",
    "    },\n",
    "    local_browser_launch_options={\n",
    "        \"headless\": False,  # Set to True for headless mode\n",
    "        \"viewport\": {\"width\": 1280, \"height\": 720}\n",
    "    },\n",
    "    verbose=1,  # Set to 0 for minimal logs, 2 for detailed logs\n",
    "    dom_settle_timeout_ms=3000,\n",
    ")\n",
    "\n",
    "stagehand = Stagehand(config)\n",
    "print(\"✓ Stagehand configured with local browser and Alibaba Bailian API\")"
   ]
  },
  {
   "cell_type": "markdown",
   "metadata": {},
   "source": [
    "## Initialize Stagehand\n",
    "\n",
    "Initialize the Stagehand instance, which will launch a local browser."
   ]
  },
  {
   "cell_type": "code",
   "execution_count": null,
   "metadata": {},
   "outputs": [],
   "source": [
    "await stagehand.init()\n",
    "\n",
    "# Validate LLM configuration\n",
    "validation = stagehand.llm.validate_configuration()\n",
    "if validation['valid']:\n",
    "    print(f\"✓ LLM configured: {validation['configuration']['provider']} - {config.model_name}\")\n",
    "else:\n",
    "    print(\"⚠ LLM configuration issues:\", validation['errors'])\n",
    "\n",
    "print(\"🚀 Local browser session initialized successfully!\")"
   ]
  },
  {
   "cell_type": "markdown",
   "metadata": {},
   "source": [
    "## Navigate to a Website\n",
    "\n",
    "Let's navigate to Hacker News and extract some data."
   ]
  },
  {
   "cell_type": "code",
   "execution_count": null,
   "metadata": {},
   "outputs": [],
   "source": [
    "page = stagehand.page\n",
    "await page.goto(\"https://news.ycombinator.com\")\n",
    "print(\"✓ Navigated to Hacker News\")"
   ]
  },
  {
   "cell_type": "markdown",
   "metadata": {},
   "source": [
    "## Define Data Models\n",
    "\n",
    "Define Pydantic models for structured data extraction."
   ]
  },
  {
   "cell_type": "code",
   "execution_count": null,
   "metadata": {},
   "outputs": [],
   "source": [
    "from pydantic import BaseModel, Field\n",
    "\n",
    "class Post(BaseModel):\n",
    "    title: str = Field(..., description=\"Post title\")\n",
    "    points: int = Field(..., description=\"Number of points/upvotes\")\n",
    "    comments: int = Field(..., description=\"Number of comments\")\n",
    "    url: str = Field(..., description=\"Post URL if available\")\n",
    "\n",
    "class Posts(BaseModel):\n",
    "    posts: List[Post] = Field(..., description=\"List of posts\")\n",
    "\n",
    "print(\"✓ Data models defined\")"
   ]
  },
  {
   "cell_type": "markdown",
   "metadata": {},
   "source": [
    "## Extract Structured Data\n",
    "\n",
    "Use Stagehand's extract method to get structured data from the page."
   ]
  },
  {
   "cell_type": "code",
   "execution_count": null,
   "metadata": {},
   "outputs": [],
   "source": [
    "# Extract posts related to AI\n",
    "res = await page.extract(\n",
    "    \"find the top 5 posts on the front page with their titles, points, comments, and URLs\", \n",
    "    schema=Posts\n",
    ")\n",
    "\n",
    "print(f\"✓ Extracted {len(res.posts)} posts\")"
   ]
  },
  {
   "cell_type": "markdown",
   "metadata": {},
   "source": [
    "## Display Results\n",
    "\n",
    "Pretty print the extracted data."
   ]
  },
  {
   "cell_type": "code",
   "execution_count": null,
   "metadata": {},
   "outputs": [],
   "source": [
    "print(\"\\n📊 Extracted Posts:\")\n",
    "print(\"=\" * 50)\n",
    "\n",
    "for idx, post in enumerate(res.posts, 1):\n",
    "    print(f\"\\n{idx}. {post.title}\")\n",
    "    print(f\"   Points: {post.points} | Comments: {post.comments}\")\n",
    "    if post.url:\n",
    "        print(f\"   URL: {post.url}\")\n",
    "    print(\"-\" * 40)"
   ]
  },
  {
   "cell_type": "markdown",
   "metadata": {},
   "source": [
    "## Demonstrate Browser Actions\n",
    "\n",
    "Show how to perform actions on the page."
   ]
  },
  {
   "cell_type": "code",
   "execution_count": null,
   "metadata": {},
   "outputs": [],
   "source": [
    "# Observe elements on the page\n",
    "observed = await page.observe(\"find the 'new' link in the navigation\")\n",
    "print(f\"✓ Observed: {observed}\")\n",
    "\n",
    "# Perform an action\n",
    "if observed:\n",
    "    action_result = await page.act(\"click on the 'new' link\")\n",
    "    print(f\"✓ Action performed: {action_result}\")\n",
    "    \n",
    "    # Wait a moment for the page to load\n",
    "    import asyncio\n",
    "    await asyncio.sleep(2)\n",
    "    \n",
    "    print(\"✓ Navigated to 'new' posts page\")"
   ]
  },
  {
   "cell_type": "markdown",
   "metadata": {},
   "source": [
    "## Alternative LLM Provider Configuration\n",
    "\n",
    "Here's how you could configure Stagehand with different LLM providers:"
   ]
  },
  {
   "cell_type": "code",
   "execution_count": null,
   "metadata": {},
   "outputs": [],
   "source": [
    "# Example configurations for different providers (don't run these cells unless you have the API keys)\n",
    "\n",
    "# Anthropic Claude configuration\n",
    "anthropic_config = StagehandConfig(\n",
    "    model_name=\"claude-3-haiku-20240307\",\n",
    "    model_client_options={\n",
    "        \"api_base\": \"https://api.anthropic.com\",\n",
    "        \"api_key\": os.getenv(\"ANTHROPIC_API_KEY\"),\n",
    "        \"timeout\": 60\n",
    "    },\n",
    "    local_browser_launch_options={\"headless\": True}\n",
    ")\n",
    "\n",
    "# Together AI configuration\n",
    "together_config = StagehandConfig(\n",
    "    model_name=\"together/llama-2-7b-chat\",\n",
    "    model_client_options={\n",
    "        \"api_base\": \"https://api.together.xyz/v1\",\n",
    "        \"api_key\": os.getenv(\"TOGETHER_API_KEY\"),\n",
    "        \"timeout\": 45\n",
    "    },\n",
    "    local_browser_launch_options={\"headless\": True}\n",
    ")\n",
    "\n",
    "# Groq configuration\n",
    "groq_config = StagehandConfig(\n",
    "    model_name=\"groq/llama2-70b-4096\",\n",
    "    model_client_options={\n",
    "        \"api_base\": \"https://api.groq.com/openai/v1\",\n",
    "        \"api_key\": os.getenv(\"GROQ_API_KEY\"),\n",
    "        \"timeout\": 30\n",
    "    },\n",
    "    local_browser_launch_options={\"headless\": True}\n",
    ")\n",
    "\n",
    "print(\"✓ Alternative provider configurations shown above\")"
   ]
  },
  {
   "cell_type": "markdown",
   "metadata": {},
   "source": [
    "## Clean Up\n",
    "\n",
    "Always close the Stagehand session when done to free up resources."
   ]
  },
  {
   "cell_type": "code",
   "execution_count": null,
   "metadata": {},
   "outputs": [],
   "source": [
    "await stagehand.close()\n",
    "print(\"✓ Stagehand session closed successfully!\")"
   ]
  },
  {
   "cell_type": "markdown",
   "metadata": {},
   "source": [
    "## Summary\n",
    "\n",
    "This notebook demonstrated:\n",
    "\n",
    "1. **Local Browser Configuration**: Using Stagehand with a local browser instead of remote services\n",
    "2. **Custom LLM Endpoints**: Configuring different LLM providers (OpenAI, Anthropic, Together AI, Groq)\n",
    "3. **Structured Data Extraction**: Using Pydantic models to extract structured data\n",
    "4. **Browser Actions**: Observing and acting on page elements\n",
    "5. **Configuration Validation**: Checking LLM configuration validity\n",
    "\n",
    "### Key Benefits of Local Mode:\n",
    "- No external service dependencies\n",
    "- Better privacy and security\n",
    "- Lower latency for browser operations\n",
    "- Full control over browser configuration\n",
    "- Works offline (except for LLM API calls)\n",
    "\n",
    "### Next Steps:\n",
    "- Try different LLM providers\n",
    "- Experiment with headless vs. headed browser modes\n",
    "- Build more complex automation workflows\n",
    "- Integrate with your own applications"
   ]
  }
 ],
 "metadata": {
  "kernelspec": {
   "display_name": "Python 3",
   "language": "python",
   "name": "python3"
  },
  "language_info": {
   "codemirror_mode": {
    "name": "ipython",
    "version": 3
   },
   "file_extension": ".py",
   "mimetype": "text/x-python",
   "name": "python",
   "nbconvert_exporter": "python",
   "version": "3.11.12"
  }
 },
 "nbformat": 4,
 "nbformat_minor": 2
}
